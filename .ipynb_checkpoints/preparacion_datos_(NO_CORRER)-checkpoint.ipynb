{
 "cells": [
  {
   "cell_type": "code",
   "execution_count": 1,
   "metadata": {
    "collapsed": true
   },
   "outputs": [],
   "source": [
    "import numpy as np\n",
    "import pandas as pd\n",
    "import matplotlib.pyplot as plt\n",
    "import sklearn"
   ]
  },
  {
   "cell_type": "code",
   "execution_count": 2,
   "metadata": {
    "collapsed": false
   },
   "outputs": [
    {
     "name": "stdout",
     "output_type": "stream",
     "text": [
      "The scikit-learn version is 0.18.1.\n"
     ]
    }
   ],
   "source": [
    "print('The scikit-learn version is {}.'.format(sklearn.__version__))"
   ]
  },
  {
   "cell_type": "code",
   "execution_count": 3,
   "metadata": {
    "collapsed": false
   },
   "outputs": [
    {
     "name": "stdout",
     "output_type": "stream",
     "text": [
      "32465\n",
      "31818\n"
     ]
    }
   ],
   "source": [
    "data1=pd.read_csv(\"highp_finalresults.csv\")\n",
    "print(len(data1))\n",
    "data2=pd.read_csv(\"lowp_finalresults.csv\")\n",
    "print(len(data2))"
   ]
  },
  {
   "cell_type": "code",
   "execution_count": 4,
   "metadata": {
    "collapsed": true
   },
   "outputs": [],
   "source": [
    "#Define function to get our targets and predictors\n",
    "def get_data(data):\n",
    "    id1=np.array(data['ident'])\n",
    "\n",
    "    ident=np.array(data['ident'])\n",
    "    ident=np.array(list(set(ident)))\n",
    "\n",
    "    dx_planet=np.array(data[['emestar','rc','sigmag_0','emed','apert','emetal','taugas']])\n",
    "    dy=np.array(data['emepla(i)/emet'])\n",
    "\n",
    "    dx_star=[]\n",
    "    N_planets=[]\n",
    "    M_total=[]\n",
    "\n",
    "    for i in ident:\n",
    "        maski=(id1==i)\n",
    "        maski=np.repeat(maski,7)\n",
    "        maski=np.reshape(maski,(int(len(maski)/7),7))\n",
    "    \n",
    "        ddi=np.sum(maski*dx_planet,axis=0)/sum(maski)\n",
    "    \n",
    "        dx_star.append(ddi)\n",
    "\n",
    "        masky=(id1==i)\n",
    "   \n",
    "        planets=np.count_nonzero(masky)\n",
    "        N_planets.append(planets)\n",
    "    \n",
    "        mass_ta=np.sum(masky*dy)\n",
    "        M_total.append(mass_ta)\n",
    "    \n",
    "    dx_star=np.array(dx_star)\n",
    "    N_planets=np.array(N_planets)\n",
    "    M_total=np.array(M_total)\n",
    "    \n",
    "    efi=np.divide(M_total,dx_star[:,3])\n",
    "    \n",
    "    return(N_planets,M_total,efi,dx_star)\n",
    "    "
   ]
  },
  {
   "cell_type": "code",
   "execution_count": 5,
   "metadata": {
    "collapsed": false
   },
   "outputs": [],
   "source": [
    "N_p1,M_t1,efi1,dx_1=get_data(data1)"
   ]
  },
  {
   "cell_type": "code",
   "execution_count": 6,
   "metadata": {
    "collapsed": false
   },
   "outputs": [
    {
     "name": "stdout",
     "output_type": "stream",
     "text": [
      "2770\n",
      "2770\n",
      "2770\n",
      "2770\n"
     ]
    }
   ],
   "source": [
    "print(len(N_p1))\n",
    "print(len(M_t1))\n",
    "print(len(efi1))\n",
    "print(len(dx_1))"
   ]
  },
  {
   "cell_type": "code",
   "execution_count": 7,
   "metadata": {
    "collapsed": false
   },
   "outputs": [],
   "source": [
    "N_p2,M_t2,efi2,dx_2=get_data(data2)"
   ]
  },
  {
   "cell_type": "code",
   "execution_count": 8,
   "metadata": {
    "collapsed": false
   },
   "outputs": [
    {
     "name": "stdout",
     "output_type": "stream",
     "text": [
      "2735\n",
      "2735\n",
      "2735\n",
      "2735\n"
     ]
    }
   ],
   "source": [
    "print(len(N_p2))\n",
    "print(len(M_t2))\n",
    "print(len(efi2))\n",
    "print(len(dx_2))"
   ]
  },
  {
   "cell_type": "code",
   "execution_count": 9,
   "metadata": {
    "collapsed": false
   },
   "outputs": [],
   "source": [
    "#Target 1: Number of planets\n",
    "#Target 2: Total mass of planets\n",
    "#Target 3: Mass efficiency\n",
    "\n",
    "target1=np.concatenate((N_p1,N_p2))\n",
    "target2=np.concatenate((M_t1,M_t2))\n",
    "target3=np.concatenate((efi1,efi2))\n",
    "x=np.concatenate((dx_1,dx_2))"
   ]
  },
  {
   "cell_type": "markdown",
   "metadata": {},
   "source": [
    "# First Method: Linear Regression (Lasso)\n",
    "## No sirve ($R^2$ muy pequeño-0.1)"
   ]
  },
  {
   "cell_type": "code",
   "execution_count": 10,
   "metadata": {
    "collapsed": false
   },
   "outputs": [
    {
     "name": "stderr",
     "output_type": "stream",
     "text": [
      "//anaconda/lib/python3.5/site-packages/sklearn/utils/validation.py:429: DataConversionWarning: Data with input dtype int64 was converted to float64 by the scale function.\n",
      "  warnings.warn(msg, _DataConversionWarning)\n",
      "//anaconda/lib/python3.5/site-packages/sklearn/preprocessing/data.py:160: UserWarning: Numerical issues were encountered when centering the data and might not be solved. Dataset may contain too large values. You may need to prescale your features.\n",
      "  warnings.warn(\"Numerical issues were encountered \"\n"
     ]
    },
    {
     "data": {
      "image/png": "[encoded data removed]",
      "text/plain": [
       "<matplotlib.figure.Figure at 0x10f635470>"
      ]
     },
     "metadata": {},
     "output_type": "display_data"
    }
   ],
   "source": [
    "#Normalize targets and predictors\n",
    "from sklearn import preprocessing\n",
    "from sklearn.model_selection import train_test_split\n",
    "from sklearn.model_selection import cross_val_score\n",
    "from sklearn import linear_model\n",
    "\n",
    "t1_norm=preprocessing.scale(target1)\n",
    "x_norm=preprocessing.scale(x)\n",
    "\n",
    "#Get train and test data\n",
    "X_train, X_test, Y1_train, Y1_test = train_test_split(x_norm, t1_norm,random_state=1)\n",
    "\n",
    "alpha=np.linspace(0.001,0.41)\n",
    "scores=[]\n",
    "\n",
    "for a in alpha:\n",
    "    clf = linear_model.Lasso(alpha=a)\n",
    "    clf.fit(X_train, Y1_train)\n",
    "    scores.append(clf.score(X_test, Y1_test))\n",
    "\n",
    "plt.figure()\n",
    "plt.plot(alpha,scores)\n",
    "plt.show()"
   ]
  },
  {
   "cell_type": "markdown",
   "metadata": {},
   "source": [
    "# Second Method: Random Forest"
   ]
  },
  {
   "cell_type": "code",
   "execution_count": 11,
   "metadata": {
    "collapsed": false
   },
   "outputs": [],
   "source": [
    "from sklearn.ensemble import RandomForestClassifier\n",
    "from sklearn.metrics import r2_score\n",
    "\n",
    "#Get train and test data\n",
    "X_train, X_test, Y1_train, Y1_test = train_test_split(x, target1,random_state=1)\n",
    "\n",
    "n_trees_total = 60\n",
    "fs1 = []\n",
    "\n",
    "for i in range(n_trees_total):\n",
    "    rf = RandomForestClassifier(n_estimators=i+1)\n",
    "    rf.fit(X_train, Y1_train.astype(int))\n",
    "    prediction = rf.predict(X_test)\n",
    "    \n",
    "    f=r2_score(Y1_test,prediction)\n",
    "    fs1.append(f)"
   ]
  },
  {
   "cell_type": "code",
   "execution_count": 12,
   "metadata": {
    "collapsed": false
   },
   "outputs": [
    {
     "name": "stdout",
     "output_type": "stream",
     "text": [
      "Numero de arboles mas eficiente: 22\n"
     ]
    },
    {
     "data": {
      "image/png": "[encoded data removed]",
      "text/plain": [
       "<matplotlib.figure.Figure at 0x10fa5e6a0>"
      ]
     },
     "metadata": {},
     "output_type": "display_data"
    }
   ],
   "source": [
    "print(\"Numero de arboles mas eficiente: \"+str(np.argmax(fs1)))\n",
    "plt.plot(fs1)\n",
    "plt.show()"
   ]
  },
  {
   "cell_type": "markdown",
   "metadata": {
    "collapsed": true
   },
   "source": [
    "# Third Method: Support Vector Regression"
   ]
  },
  {
   "cell_type": "code",
   "execution_count": 21,
   "metadata": {
    "collapsed": false
   },
   "outputs": [
    {
     "name": "stdout",
     "output_type": "stream",
     "text": [
      "0.275925330629\n"
     ]
    }
   ],
   "source": [
    "from sklearn.svm import SVR\n",
    "from sklearn.metrics import r2_score\n",
    "\n",
    "svr_rbf = SVR(kernel='rbf', C=1e3, gamma=0.1)\n",
    "svr_lin = SVR(kernel='linear', C=1e3)\n",
    "svr_poly = SVR(kernel='poly', C=1e3, degree=2)\n",
    "\n",
    "\n",
    "\n",
    "y_rbf = svr_rbf.fit(X_train, Y1_train).predict(X_test)\n",
    "#y_lin = svr_lin.fit(X_train, Y1_train).predict(X_test)\n",
    "#y_poly = svr_poly.fit(X_train, Y1_train).predict(X_test)\n",
    "\n",
    "r2_rbf=r2_score(Y1_test,y_rbf)\n",
    "#r2_lin=r2_score(Y1_test,y_lin)\n",
    "#r2_poly=r2_score(Y1_test,y_poly)\n",
    "\n",
    "print(r2_rbf)\n",
    "#print(r2_lin)\n",
    "#print(r2_poly)"
   ]
  },
  {
   "cell_type": "markdown",
   "metadata": {},
   "source": [
    "## Radial Basis Function Kernel for different C\n",
    "## Target 1"
   ]
  },
  {
   "cell_type": "code",
   "execution_count": 44,
   "metadata": {
    "collapsed": false
   },
   "outputs": [
    {
     "name": "stderr",
     "output_type": "stream",
     "text": [
      "//anaconda/lib/python3.5/site-packages/sklearn/utils/validation.py:429: DataConversionWarning: Data with input dtype int64 was converted to float64 by the scale function.\n",
      "  warnings.warn(msg, _DataConversionWarning)\n",
      "//anaconda/lib/python3.5/site-packages/sklearn/preprocessing/data.py:160: UserWarning: Numerical issues were encountered when centering the data and might not be solved. Dataset may contain too large values. You may need to prescale your features.\n",
      "  warnings.warn(\"Numerical issues were encountered \"\n"
     ]
    },
    {
     "data": {
      "image/png": "[encoded data removed]",
      "text/plain": [
       "<matplotlib.figure.Figure at 0x11b487048>"
      ]
     },
     "metadata": {},
     "output_type": "display_data"
    }
   ],
   "source": [
    "from sklearn.svm import SVR\n",
    "from sklearn.metrics import r2_score\n",
    "\n",
    "t1_norm=preprocessing.scale(target1)\n",
    "x_norm=preprocessing.scale(x)\n",
    "\n",
    "X1_train, X1_test, Y1_train, Y1_test = train_test_split(x_norm, t1_norm,random_state=1)\n",
    "\n",
    "CC1=np.linspace(0.001,100)\n",
    "r2_r=[]\n",
    "\n",
    "for c in CC1:\n",
    "    svr_rbf=SVR(kernel='rbf', C=c, gamma=0.1)\n",
    "    \n",
    "    y_rbf=svr_rbf.fit(X1_train, Y1_train).predict(X1_test)\n",
    "    \n",
    "    r2_rbf=r2_score(Y1_test,y_rbf)\n",
    "    \n",
    "    r2_r.append(r2_rbf)\n",
    "\n",
    "fig=plt.figure()\n",
    "plt.plot(CC1,r2_r)\n",
    "plt.show()"
   ]
  },
  {
   "cell_type": "code",
   "execution_count": 45,
   "metadata": {
    "collapsed": false
   },
   "outputs": [
    {
     "name": "stdout",
     "output_type": "stream",
     "text": [
      "C mas eficiente: 83.6736326531 con R2= 0.410147111213\n"
     ]
    }
   ],
   "source": [
    "print(\"C mas eficiente: \"+str(CC1[np.argmax(r2_r)])+ \" con R2= \"+str(r2_r[np.argmax(r2_r)]))"
   ]
  },
  {
   "cell_type": "markdown",
   "metadata": {},
   "source": [
    "## Radial Basis Function Kernel for different gamma given maximum C\n",
    "## Target 1"
   ]
  },
  {
   "cell_type": "code",
   "execution_count": 46,
   "metadata": {
    "collapsed": false
   },
   "outputs": [
    {
     "data": {
      "image/png": "[encoded data removed]",
      "text/plain": [
       "<matplotlib.figure.Figure at 0x118ad9e80>"
      ]
     },
     "metadata": {},
     "output_type": "display_data"
    }
   ],
   "source": [
    "from sklearn.svm import SVR\n",
    "from sklearn.metrics import r2_score\n",
    "\n",
    "gamma=np.linspace(0.001,5)\n",
    "r2_rg=[]\n",
    "\n",
    "for g in gamma:\n",
    "    svr_rbf = SVR(kernel='rbf', C=CC1[np.argmax(r2_r)], gamma=g)\n",
    "    \n",
    "    y_rbf = svr_rbf.fit(X1_train, Y1_train).predict(X1_test)\n",
    "\n",
    "    r2_rbf=r2_score(Y1_test,y_rbf)\n",
    "    \n",
    "    r2_rg.append(r2_rbf)\n",
    "\n",
    "fig=plt.figure()\n",
    "plt.plot(gamma,r2_rg)\n",
    "plt.show()"
   ]
  },
  {
   "cell_type": "code",
   "execution_count": 47,
   "metadata": {
    "collapsed": false
   },
   "outputs": [
    {
     "name": "stdout",
     "output_type": "stream",
     "text": [
      "Gamma mas eficiente: 0.103020408163 con R2= 0.411052297366\n"
     ]
    }
   ],
   "source": [
    "print(\"Gamma mas eficiente: \"+str(gamma[np.argmax(r2_rg)])+ \" con R2= \"+str(r2_rg[np.argmax(r2_rg)]))"
   ]
  },
  {
   "cell_type": "code",
   "execution_count": null,
   "metadata": {
    "collapsed": true
   },
   "outputs": [],
   "source": []
  }
 ],
 "metadata": {
  "anaconda-cloud": {},
  "kernelspec": {
   "display_name": "Python [conda root]",
   "language": "python",
   "name": "conda-root-py"
  },
  "language_info": {
   "codemirror_mode": {
    "name": "ipython",
    "version": 3
   },
   "file_extension": ".py",
   "mimetype": "text/x-python",
   "name": "python",
   "nbconvert_exporter": "python",
   "pygments_lexer": "ipython3",
   "version": "3.5.2"
  }
 },
 "nbformat": 4,
 "nbformat_minor": 1
}
